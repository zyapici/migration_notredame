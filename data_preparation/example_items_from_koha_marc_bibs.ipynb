{
 "cells": [
  {
   "attachments": {},
   "cell_type": "markdown",
   "metadata": {},
   "source": [
    "## Preparations\n",
    "The data which we will use to create holdings and items are contianed within the 952 (item) and 852/866 (holding) fields of the bibliographic MARC export. Some bibs will contain mutliple occurences of 952/852/866.\n",
    "<br><br>\n",
    "We can use (for example) the service task MARCFieldsToTSV to create delimited files from the MARC file.\n",
    "<br><br>\n",
    "Run python ~/code/service_tools/main_cli.py MARCFieldsToTSV to learn more about the script arguments. The script will create one row per occurence of the leftmost MARC tag in the MARC tags argument(\"952\" in as in \"952,999,852\"). In the result file, the _0_ in 952_0_a, is used to create unique column headers when there are multiple occurences of the same field in a record.\n",
    "\n",
    "### Create a tsv file\n",
    "1. Note that you might run into problems if the MARC file contains tabs (!). If that is the case, you can do a find/replace in the MARC file before you run the script to create the delimited file.\n",
    "2. Run the bib MARC file through MARCFieldsToTSV to create a tsv file containing one row per 952 field in the bibs file. Also include the 999 field which contains the bib number, as well as the 852 and 866. The command will look something like this:\n",
    "\n",
    "    ```\n",
    "    python ~/code/service_tools/main_cli.py MARCFieldsToTSV ~/client_data/my_library/iterations/bibs_test/source_data/instances/my_library_bibs.mrc ~/client_data/migration_whu/iterations/bibs_test/source_data/items/my_library_items_from_952.tsv \"952,999,852,866\" no\n",
    "    ```\n",
    "3. To make sure the expected items were generated, compare the number of rows in your new file with the number of 952s in your bib MARC file.\n"
   ]
  },
  {
   "cell_type": "markdown",
   "metadata": {},
   "source": [
    "## Open and inspect file\n",
    "Start by reading the file into a Pandas dataframe. If there is an encoding issue, use encoding=\"unicode_escape\" parametre to read the file anyway."
   ]
  },
  {
   "cell_type": "code",
   "execution_count": null,
   "metadata": {},
   "outputs": [],
   "source": [
    "import csv\n",
    "import pandas as pd\n",
    "import numpy as np\n",
    "import time\n"
   ]
  },
  {
   "cell_type": "code",
   "execution_count": null,
   "metadata": {},
   "outputs": [],
   "source": [
    "folder = \"~/client_data/my_library/iterations/bibs_test/source_data/items\"\n",
    "# Replace this with your latest file\n",
    "filename = f\"/items_from_952.tsv\"\n",
    "\n",
    "delimiter = \"\\t\"\n",
    "\n",
    "\n",
    "data = pd.read_csv(f\"{folder}{filename}\", dtype=object, delimiter=delimiter, na_filter=False)\n",
    "\n"
   ]
  },
  {
   "cell_type": "code",
   "execution_count": null,
   "metadata": {},
   "outputs": [],
   "source": [
    "# Sort the colmns (for visiiblity it's nice to have bub ID 999 to the left)\n",
    "data = data.reindex(sorted(data.columns, reverse=True),  axis=1)\n",
    "data.info(verbose=True)\n",
    "data.head(3)\n"
   ]
  },
  {
   "attachments": {},
   "cell_type": "markdown",
   "metadata": {},
   "source": [
    "### Rename columns\n",
    "Use this Koha 952 map: https://wiki.koha-community.org/wiki/Holdings_data_fields_(9xx)#MARC21_Holding_field_.28952.29"
   ]
  },
  {
   "cell_type": "code",
   "execution_count": null,
   "metadata": {},
   "outputs": [],
   "source": [
    "map_marc_to_names = {\n",
    "    \"952_0_9\": \"itemnumber\",\n",
    "    \"952_0_p\": \"barcode\",\n",
    "    \"952_0_d\": \"dateaccessioned\",\n",
    "    \"952_0_e\": \"booksellerid\",\n",
    "    \"952_0_a\": \"homebranch\",\n",
    "    \"952_0_g\": \"price\",\n",
    "    \"952_0_v\": \"replacementprice\",\n",
    "    \"952_0_w\": \"replacementpricedate\",\n",
    "    \"952_0_s\": \"datelastborrowed\",\n",
    "    \"952_0_r\": \"datelastseen\",\n",
    "    \"952_0_j\": \"stack\",\n",
    "    \"952_0_7\": \"notforloan\",\n",
    "    \"952_0_4\": \"damaged\",\n",
    "    \"952_0_1\": \"itemlost\",\n",
    "    \"952_0_0\": \"wthdrawn\",\n",
    "    \"952_0_o\": \"itemcallnumber\",\n",
    "    \"952_0_l\": \"issues\",\n",
    "    \"952_0_m\": \"renewals\",\n",
    "    \"952_0_n\": \"reserves\",\n",
    "    \"952_0_5\": \"restricted\",\n",
    "    \"952_0_z\": \"itemnotes\",\n",
    "    \"952_0_b\": \"holdingbranch\",\n",
    "    \"952_0_c\": \"location\",\n",
    "    \"952_0_q\": \"onloan\",\n",
    "    \"952_0_2\": \"cn_source\",\n",
    "    \"952_0_6\": \"cn_sort\",\n",
    "    \"952_0_8\": \"ccode\",\n",
    "    \"952_0_3\": \"materials\",\n",
    "    \"952_0_u\": \"uri\",\n",
    "    \"952_0_y\": \"itype\",\n",
    "    \"952_0_h\": \"enumchron\",\n",
    "    \"952_0_t\": \"copynumber\",\n",
    "    \"952_0_i\": \"stocknumber\",\n",
    "}\n"
   ]
  },
  {
   "cell_type": "code",
   "execution_count": null,
   "metadata": {},
   "outputs": [],
   "source": [
    "data.rename(map_marc_to_names, axis=1, inplace=True)\n",
    "print(data.columns)\n"
   ]
  },
  {
   "cell_type": "code",
   "execution_count": null,
   "metadata": {},
   "outputs": [],
   "source": [
    "#Print column value counts\n",
    "print(data.columns)\n",
    "for column in data.columns:\n",
    "    vcdf = pd.DataFrame(data[column].value_counts())\n",
    "    print(f\"\\n{vcdf.head(20).to_markdown()}\")"
   ]
  },
  {
   "cell_type": "markdown",
   "metadata": {},
   "source": [
    "## Save to a new file in the same folder"
   ]
  },
  {
   "cell_type": "code",
   "execution_count": null,
   "metadata": {},
   "outputs": [],
   "source": [
    "timestamp = time.strftime(\"%Y%m%d-%H%M%S\")\n",
    "\n",
    "data.to_csv(\n",
    "    f\"{folder}{filename[:-4]}_prepped_{timestamp}.tsv\",\n",
    "    sep=\"\\t\",\n",
    "    index=False,\n",
    "    quoting=csv.QUOTE_NONE,\n",
    "    escapechar=\"\\\\\",\n",
    ")\n"
   ]
  },
  {
   "attachments": {},
   "cell_type": "markdown",
   "metadata": {},
   "source": [
    "## Next steps..."
   ]
  },
  {
   "cell_type": "markdown",
   "metadata": {},
   "source": []
  }
 ],
 "metadata": {
  "kernelspec": {
   "display_name": "service_tools-UHqnRFL9",
   "language": "python",
   "name": "python3"
  },
  "language_info": {
   "codemirror_mode": {
    "name": "ipython",
    "version": 3
   },
   "file_extension": ".py",
   "mimetype": "text/x-python",
   "name": "python",
   "nbconvert_exporter": "python",
   "pygments_lexer": "ipython3",
   "version": "3.9.9"
  },
  "metadata": {
   "interpreter": {
    "hash": "ac59ebe37160ed0dfa835113d9b8498d9f09ceb179beaac4002f036b9467c963"
   }
  },
  "orig_nbformat": 2,
  "vscode": {
   "interpreter": {
    "hash": "fa3a9964a1075a67ee8f7af6d244054f07f041fbfc58efafe5906b97e40c69f9"
   }
  }
 },
 "nbformat": 4,
 "nbformat_minor": 2
}
